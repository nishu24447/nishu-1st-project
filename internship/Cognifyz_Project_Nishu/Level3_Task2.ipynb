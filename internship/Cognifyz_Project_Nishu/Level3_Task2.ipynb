{
 "cells": [
  {
   "cell_type": "markdown",
   "id": "082e2843",
   "metadata": {},
   "source": [
    "# Level 3 – Task 2: Customer Preference Analysis\n"
   ]
  },
  {
   "cell_type": "code",
   "execution_count": null,
   "id": "d869e72e",
   "metadata": {},
   "outputs": [],
   "source": [
    "import pandas as pd\n",
    "import matplotlib.pyplot as plt\n",
    "import seaborn as sns\n"
   ]
  },
  {
   "cell_type": "code",
   "execution_count": null,
   "id": "90ab7b6b",
   "metadata": {},
   "outputs": [],
   "source": [
    "df = pd.read_csv(\"Dataset data science.csv\")\n",
    "df.head()\n"
   ]
  },
  {
   "cell_type": "markdown",
   "id": "7337f62c",
   "metadata": {},
   "source": [
    "## Step 1: Analyze Relationship Between Cuisine Type and Rating\n"
   ]
  },
  {
   "cell_type": "code",
   "execution_count": null,
   "id": "ccc26758",
   "metadata": {},
   "outputs": [],
   "source": [
    "# Group by cuisines and get average rating\n",
    "avg_rating_by_cuisine = df.groupby('Cuisines')['Aggregate rating'].mean().sort_values(ascending=False)\n",
    "\n",
    "# Display top 10\n",
    "avg_rating_by_cuisine.head(10).plot(kind='barh', figsize=(10,5), color='green')\n",
    "plt.xlabel(\"Average Rating\")\n",
    "plt.title(\"Top 10 Cuisines by Average Rating\")\n",
    "plt.gca().invert_yaxis()\n",
    "plt.show()\n"
   ]
  },
  {
   "cell_type": "markdown",
   "id": "5e9bf1a5",
   "metadata": {},
   "source": [
    "## Step 2: Identify Most Popular Cuisines Based on Number of Votes\n"
   ]
  },
  {
   "cell_type": "code",
   "execution_count": null,
   "id": "4c6b7232",
   "metadata": {},
   "outputs": [],
   "source": [
    "# Group by cuisines and sum the votes\n",
    "votes_by_cuisine = df.groupby('Cuisines')['Votes'].sum().sort_values(ascending=False)\n",
    "\n",
    "# Display top 10\n",
    "votes_by_cuisine.head(10).plot(kind='bar', figsize=(10,5), color='skyblue')\n",
    "plt.ylabel(\"Total Votes\")\n",
    "plt.title(\"Top 10 Most Popular Cuisines (by Votes)\")\n",
    "plt.xticks(rotation=45)\n",
    "plt.show()\n"
   ]
  },
  {
   "cell_type": "markdown",
   "id": "430f838d",
   "metadata": {},
   "source": [
    "## Step 3: Find Cuisines That Tend to Receive Higher Ratings\n"
   ]
  },
  {
   "cell_type": "code",
   "execution_count": null,
   "id": "84aa4e09",
   "metadata": {},
   "outputs": [],
   "source": [
    "# Filter cuisines with average rating ≥ 4.0\n",
    "high_rated_cuisines = avg_rating_by_cuisine[avg_rating_by_cuisine >= 4.0]\n",
    "print(\"Cuisines with Average Rating >= 4.0:\")\n",
    "print(high_rated_cuisines)\n"
   ]
  },
  {
   "cell_type": "markdown",
   "id": "167d75d5",
   "metadata": {},
   "source": [
    "## Optional: Compare Votes vs Ratings for Top Cuisines\n"
   ]
  },
  {
   "cell_type": "code",
   "execution_count": null,
   "id": "83d3c1c2",
   "metadata": {},
   "outputs": [],
   "source": [
    "# Join ratings and votes for common cuisines\n",
    "combined = pd.merge(\n",
    "    avg_rating_by_cuisine.rename(\"Avg Rating\"),\n",
    "    votes_by_cuisine.rename(\"Total Votes\"),\n",
    "    left_index=True, right_index=True\n",
    ")\n",
    "\n",
    "# Display top 10 by votes\n",
    "top_combined = combined.sort_values(\"Total Votes\", ascending=False).head(10)\n",
    "\n",
    "# Plot\n",
    "fig, ax1 = plt.subplots(figsize=(10,5))\n",
    "\n",
    "color = 'tab:blue'\n",
    "ax1.set_xlabel('Cuisine')\n",
    "ax1.set_ylabel('Total Votes', color=color)\n",
    "ax1.bar(top_combined.index, top_combined['Total Votes'], color=color)\n",
    "ax1.tick_params(axis='y', labelcolor=color)\n",
    "ax1.set_xticklabels(top_combined.index, rotation=45)\n",
    "\n",
    "ax2 = ax1.twinx()\n",
    "color = 'tab:red'\n",
    "ax2.set_ylabel('Avg Rating', color=color)\n",
    "ax2.plot(top_combined.index, top_combined['Avg Rating'], color=color, marker='o')\n",
    "ax2.tick_params(axis='y', labelcolor=color)\n",
    "\n",
    "plt.title(\"Votes vs Average Rating for Top Cuisines\")\n",
    "plt.tight_layout()\n",
    "plt.show()\n"
   ]
  }
 ],
 "metadata": {
  "language_info": {
   "name": "python"
  }
 },
 "nbformat": 4,
 "nbformat_minor": 5
}
